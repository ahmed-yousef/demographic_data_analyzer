{
 "cells": [
  {
   "cell_type": "code",
   "execution_count": 3,
   "id": "f5f0d029",
   "metadata": {},
   "outputs": [],
   "source": [
    "## Read data from file"
   ]
  },
  {
   "cell_type": "code",
   "execution_count": null,
   "id": "c0c50f66",
   "metadata": {},
   "outputs": [],
   "source": [
    "import pandas as pd"
   ]
  },
  {
   "cell_type": "code",
   "execution_count": 2,
   "id": "a7a4a303",
   "metadata": {},
   "outputs": [],
   "source": [
    "df = pd.read_csv('adult.data.csv')"
   ]
  },
  {
   "cell_type": "code",
   "execution_count": 13,
   "id": "bfeb18dc",
   "metadata": {},
   "outputs": [],
   "source": [
    "higher_education = df[(df['education'] =='Bachelors') |(df['education'] =='Masters')|(df['education'] =='Doctorate')&(df['salary'] == '>=50k')].education.count()/df['education'].count()"
   ]
  },
  {
   "cell_type": "code",
   "execution_count": 15,
   "id": "d5e7df26",
   "metadata": {},
   "outputs": [
    {
     "name": "stdout",
     "output_type": "stream",
     "text": [
      "0.21737661619729123\n"
     ]
    }
   ],
   "source": [
    "print(higher_education)"
   ]
  },
  {
   "cell_type": "code",
   "execution_count": 16,
   "id": "fbd0827f",
   "metadata": {},
   "outputs": [],
   "source": [
    "lower_education = df[(df['education'] !='Bachelors') |(df['education'] !='Masters')|(df['education'] !='Doctorate')&(df['salary'] == '>=50k')].education.count()"
   ]
  },
  {
   "cell_type": "code",
   "execution_count": 21,
   "id": "6f8e3e99",
   "metadata": {},
   "outputs": [],
   "source": [
    "lower_education_rich = lower_education/df['education'].count()"
   ]
  },
  {
   "cell_type": "code",
   "execution_count": 22,
   "id": "7c8371b7",
   "metadata": {},
   "outputs": [
    {
     "data": {
      "text/plain": [
       "0.0"
      ]
     },
     "execution_count": 22,
     "metadata": {},
     "output_type": "execute_result"
    }
   ],
   "source": [
    "lower_education_rich"
   ]
  },
  {
   "cell_type": "code",
   "execution_count": 19,
   "id": "336ba0a6",
   "metadata": {},
   "outputs": [],
   "source": [
    "lower_education = df[(df['education'] !='Bachelors') &(df['education'] !='Masters')&(df['education'] !='Doctorate')&(df['salary'] == '>=50k')].education.count()"
   ]
  },
  {
   "cell_type": "code",
   "execution_count": 42,
   "id": "ac57cc30",
   "metadata": {},
   "outputs": [
    {
     "data": {
      "text/plain": [
       "32561"
      ]
     },
     "execution_count": 42,
     "metadata": {},
     "output_type": "execute_result"
    }
   ],
   "source": [
    "df.groupby('education').education.count().sum()"
   ]
  },
  {
   "cell_type": "code",
   "execution_count": 36,
   "id": "32c07aaf",
   "metadata": {},
   "outputs": [],
   "source": [
    "higher_education = df[(df['education'] =='Bachelors') |(df['education'] =='Masters')|(df['education'] =='Doctorate')&(df['salary'] == '>50K')].salary.count()"
   ]
  },
  {
   "cell_type": "code",
   "execution_count": 37,
   "id": "4b5b8058",
   "metadata": {},
   "outputs": [],
   "source": [
    "higher_education_rich = higher_education/df['education'].count()"
   ]
  },
  {
   "cell_type": "code",
   "execution_count": 38,
   "id": "ebb5f780",
   "metadata": {},
   "outputs": [
    {
     "data": {
      "text/plain": [
       "0.22677436196677006"
      ]
     },
     "execution_count": 38,
     "metadata": {},
     "output_type": "execute_result"
    }
   ],
   "source": [
    "higher_education_rich"
   ]
  },
  {
   "cell_type": "code",
   "execution_count": 52,
   "id": "a2003ed7",
   "metadata": {},
   "outputs": [
    {
     "data": {
      "text/plain": [
       "7384"
      ]
     },
     "execution_count": 52,
     "metadata": {},
     "output_type": "execute_result"
    }
   ],
   "source": [
    "higher_education = df[(df['education'] =='Bachelors') |(df['education'] =='Masters')|(df['education'] =='Doctorate')&(df['salary'] =='>50K')]\n",
    "higher_education.salary.count()"
   ]
  },
  {
   "cell_type": "code",
   "execution_count": 51,
   "id": "fbc69e2e",
   "metadata": {},
   "outputs": [
    {
     "data": {
      "text/plain": [
       "age               3486\n",
       "workclass         3486\n",
       "fnlwgt            3486\n",
       "education         3486\n",
       "education-num     3486\n",
       "marital-status    3486\n",
       "occupation        3486\n",
       "relationship      3486\n",
       "race              3486\n",
       "sex               3486\n",
       "capital-gain      3486\n",
       "capital-loss      3486\n",
       "hours-per-week    3486\n",
       "native-country    3486\n",
       "salary            3486\n",
       "dtype: int64"
      ]
     },
     "execution_count": 51,
     "metadata": {},
     "output_type": "execute_result"
    }
   ],
   "source": [
    "higher_education[higher_education['salary'] == '>50K'].count()"
   ]
  },
  {
   "cell_type": "code",
   "execution_count": 43,
   "id": "c9a9c1b9",
   "metadata": {},
   "outputs": [
    {
     "data": {
      "text/plain": [
       "7841"
      ]
     },
     "execution_count": 43,
     "metadata": {},
     "output_type": "execute_result"
    }
   ],
   "source": [
    "df[df['salary'] =='>50K'].salary.count()"
   ]
  },
  {
   "cell_type": "code",
   "execution_count": 48,
   "id": "29c3ef11",
   "metadata": {},
   "outputs": [
    {
     "data": {
      "text/plain": [
       "11739"
      ]
     },
     "execution_count": 48,
     "metadata": {},
     "output_type": "execute_result"
    }
   ],
   "source": [
    "7384+4355"
   ]
  },
  {
   "cell_type": "code",
   "execution_count": 49,
   "id": "667f4fd6",
   "metadata": {},
   "outputs": [
    {
     "data": {
      "text/plain": [
       "age               7491\n",
       "workclass         7491\n",
       "fnlwgt            7491\n",
       "education         7491\n",
       "education-num     7491\n",
       "marital-status    7491\n",
       "occupation        7491\n",
       "relationship      7491\n",
       "race              7491\n",
       "sex               7491\n",
       "capital-gain      7491\n",
       "capital-loss      7491\n",
       "hours-per-week    7491\n",
       "native-country    7491\n",
       "salary            7491\n",
       "dtype: int64"
      ]
     },
     "execution_count": 49,
     "metadata": {},
     "output_type": "execute_result"
    }
   ],
   "source": [
    "df[df['education'].isin(['Bachelors', 'Masters', 'Doctorate'])].count()"
   ]
  },
  {
   "cell_type": "code",
   "execution_count": null,
   "id": "0c1858e2",
   "metadata": {},
   "outputs": [],
   "source": []
  }
 ],
 "metadata": {
  "kernelspec": {
   "display_name": "Python 3 (ipykernel)",
   "language": "python",
   "name": "python3"
  },
  "language_info": {
   "codemirror_mode": {
    "name": "ipython",
    "version": 3
   },
   "file_extension": ".py",
   "mimetype": "text/x-python",
   "name": "python",
   "nbconvert_exporter": "python",
   "pygments_lexer": "ipython3",
   "version": "3.9.7"
  }
 },
 "nbformat": 4,
 "nbformat_minor": 5
}
