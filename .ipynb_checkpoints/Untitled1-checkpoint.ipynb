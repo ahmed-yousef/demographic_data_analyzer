{
 "cells": [
  {
   "cell_type": "markdown",
   "id": "de196603",
   "metadata": {},
   "source": [
    "# Demographic Data Analyzer"
   ]
  },
  {
   "cell_type": "markdown",
   "id": "6f35f91a",
   "metadata": {},
   "source": [
    "## index\n",
    "<a href=\"#explpore_data\">1-Explore Data</a><br>\n",
    "<a href=\"#questions\">2-questions</a>"
   ]
  },
  {
   "cell_type": "code",
   "execution_count": 23,
   "id": "4c8545c3",
   "metadata": {},
   "outputs": [],
   "source": [
    "import pandas as pd\n",
    "import matplotlib.pyplot as plt\n",
    "import numpy"
   ]
  },
  {
   "cell_type": "markdown",
   "id": "f1bd5ab8",
   "metadata": {},
   "source": [
    "### Read data from file"
   ]
  },
  {
   "cell_type": "code",
   "execution_count": 2,
   "id": "a7a4a303",
   "metadata": {},
   "outputs": [],
   "source": [
    "df = pd.read_csv('adult.data.csv')"
   ]
  },
  {
   "cell_type": "markdown",
   "id": "0b1704d9",
   "metadata": {},
   "source": [
    "## <div id=\"explpore_data\"> 1-Explore data</div>"
   ]
  },
  {
   "cell_type": "code",
   "execution_count": 3,
   "id": "932626f5",
   "metadata": {},
   "outputs": [
    {
     "data": {
      "text/plain": [
       "(32561, 15)"
      ]
     },
     "execution_count": 3,
     "metadata": {},
     "output_type": "execute_result"
    }
   ],
   "source": [
    "df.shape"
   ]
  },
  {
   "cell_type": "code",
   "execution_count": 4,
   "id": "d4d80687",
   "metadata": {},
   "outputs": [
    {
     "data": {
      "text/html": [
       "<div>\n",
       "<style scoped>\n",
       "    .dataframe tbody tr th:only-of-type {\n",
       "        vertical-align: middle;\n",
       "    }\n",
       "\n",
       "    .dataframe tbody tr th {\n",
       "        vertical-align: top;\n",
       "    }\n",
       "\n",
       "    .dataframe thead th {\n",
       "        text-align: right;\n",
       "    }\n",
       "</style>\n",
       "<table border=\"1\" class=\"dataframe\">\n",
       "  <thead>\n",
       "    <tr style=\"text-align: right;\">\n",
       "      <th></th>\n",
       "      <th>age</th>\n",
       "      <th>fnlwgt</th>\n",
       "      <th>education-num</th>\n",
       "      <th>capital-gain</th>\n",
       "      <th>capital-loss</th>\n",
       "      <th>hours-per-week</th>\n",
       "    </tr>\n",
       "  </thead>\n",
       "  <tbody>\n",
       "    <tr>\n",
       "      <th>count</th>\n",
       "      <td>32561.000000</td>\n",
       "      <td>3.256100e+04</td>\n",
       "      <td>32561.000000</td>\n",
       "      <td>32561.000000</td>\n",
       "      <td>32561.000000</td>\n",
       "      <td>32561.000000</td>\n",
       "    </tr>\n",
       "    <tr>\n",
       "      <th>mean</th>\n",
       "      <td>38.581647</td>\n",
       "      <td>1.897784e+05</td>\n",
       "      <td>10.080679</td>\n",
       "      <td>1077.648844</td>\n",
       "      <td>87.303830</td>\n",
       "      <td>40.437456</td>\n",
       "    </tr>\n",
       "    <tr>\n",
       "      <th>std</th>\n",
       "      <td>13.640433</td>\n",
       "      <td>1.055500e+05</td>\n",
       "      <td>2.572720</td>\n",
       "      <td>7385.292085</td>\n",
       "      <td>402.960219</td>\n",
       "      <td>12.347429</td>\n",
       "    </tr>\n",
       "    <tr>\n",
       "      <th>min</th>\n",
       "      <td>17.000000</td>\n",
       "      <td>1.228500e+04</td>\n",
       "      <td>1.000000</td>\n",
       "      <td>0.000000</td>\n",
       "      <td>0.000000</td>\n",
       "      <td>1.000000</td>\n",
       "    </tr>\n",
       "    <tr>\n",
       "      <th>25%</th>\n",
       "      <td>28.000000</td>\n",
       "      <td>1.178270e+05</td>\n",
       "      <td>9.000000</td>\n",
       "      <td>0.000000</td>\n",
       "      <td>0.000000</td>\n",
       "      <td>40.000000</td>\n",
       "    </tr>\n",
       "    <tr>\n",
       "      <th>50%</th>\n",
       "      <td>37.000000</td>\n",
       "      <td>1.783560e+05</td>\n",
       "      <td>10.000000</td>\n",
       "      <td>0.000000</td>\n",
       "      <td>0.000000</td>\n",
       "      <td>40.000000</td>\n",
       "    </tr>\n",
       "    <tr>\n",
       "      <th>75%</th>\n",
       "      <td>48.000000</td>\n",
       "      <td>2.370510e+05</td>\n",
       "      <td>12.000000</td>\n",
       "      <td>0.000000</td>\n",
       "      <td>0.000000</td>\n",
       "      <td>45.000000</td>\n",
       "    </tr>\n",
       "    <tr>\n",
       "      <th>max</th>\n",
       "      <td>90.000000</td>\n",
       "      <td>1.484705e+06</td>\n",
       "      <td>16.000000</td>\n",
       "      <td>99999.000000</td>\n",
       "      <td>4356.000000</td>\n",
       "      <td>99.000000</td>\n",
       "    </tr>\n",
       "  </tbody>\n",
       "</table>\n",
       "</div>"
      ],
      "text/plain": [
       "                age        fnlwgt  education-num  capital-gain  capital-loss  \\\n",
       "count  32561.000000  3.256100e+04   32561.000000  32561.000000  32561.000000   \n",
       "mean      38.581647  1.897784e+05      10.080679   1077.648844     87.303830   \n",
       "std       13.640433  1.055500e+05       2.572720   7385.292085    402.960219   \n",
       "min       17.000000  1.228500e+04       1.000000      0.000000      0.000000   \n",
       "25%       28.000000  1.178270e+05       9.000000      0.000000      0.000000   \n",
       "50%       37.000000  1.783560e+05      10.000000      0.000000      0.000000   \n",
       "75%       48.000000  2.370510e+05      12.000000      0.000000      0.000000   \n",
       "max       90.000000  1.484705e+06      16.000000  99999.000000   4356.000000   \n",
       "\n",
       "       hours-per-week  \n",
       "count    32561.000000  \n",
       "mean        40.437456  \n",
       "std         12.347429  \n",
       "min          1.000000  \n",
       "25%         40.000000  \n",
       "50%         40.000000  \n",
       "75%         45.000000  \n",
       "max         99.000000  "
      ]
     },
     "execution_count": 4,
     "metadata": {},
     "output_type": "execute_result"
    }
   ],
   "source": [
    "df.describe()"
   ]
  },
  {
   "cell_type": "code",
   "execution_count": 5,
   "id": "9fcd994f",
   "metadata": {},
   "outputs": [
    {
     "name": "stdout",
     "output_type": "stream",
     "text": [
      "<class 'pandas.core.frame.DataFrame'>\n",
      "RangeIndex: 32561 entries, 0 to 32560\n",
      "Data columns (total 15 columns):\n",
      " #   Column          Non-Null Count  Dtype \n",
      "---  ------          --------------  ----- \n",
      " 0   age             32561 non-null  int64 \n",
      " 1   workclass       32561 non-null  object\n",
      " 2   fnlwgt          32561 non-null  int64 \n",
      " 3   education       32561 non-null  object\n",
      " 4   education-num   32561 non-null  int64 \n",
      " 5   marital-status  32561 non-null  object\n",
      " 6   occupation      32561 non-null  object\n",
      " 7   relationship    32561 non-null  object\n",
      " 8   race            32561 non-null  object\n",
      " 9   sex             32561 non-null  object\n",
      " 10  capital-gain    32561 non-null  int64 \n",
      " 11  capital-loss    32561 non-null  int64 \n",
      " 12  hours-per-week  32561 non-null  int64 \n",
      " 13  native-country  32561 non-null  object\n",
      " 14  salary          32561 non-null  object\n",
      "dtypes: int64(6), object(9)\n",
      "memory usage: 3.7+ MB\n"
     ]
    }
   ],
   "source": [
    "df.info()"
   ]
  },
  {
   "cell_type": "markdown",
   "id": "44c04e88",
   "metadata": {},
   "source": [
    "## <div id=\"questions\">2-Questions:</div>\n",
    "<a href=\"#q1\">1)How many people of each race are represented in this dataset?</a></br>\n",
    "<a href=\"#q2\">2)What is the average age of men?</a></br>\n",
    "<a href=\"#q3\">3)What is the percentage of people who have a Bachelor's degree?</a></br>\n",
    "<a href=\"#q4\">4)What percentage of people with advanced education (Bachelors, Masters, or Doctorate) make more than 50K?</a></br>\n",
    "<a href=\"#q5\">5)What percentage of people without advanced education make more than 50K?</a></br>\n",
    "<a href=\"#q6\">6)What is the minimum number of hours a person works per week?</a></br>\n",
    "<a href=\"#q7\">7)What percentage of the people who work the minimum number of hours per week have a salary of more than 50K?</a></br>\n",
    "<a href=\"#q8\">8)What country has the highest percentage of people that earn >50K and what is that percentage?</a></br>\n",
    "<a href=\"#q9\">9)Identify the most popular occupation for those who earn >50K in India.</a></br>"
   ]
  },
  {
   "cell_type": "markdown",
   "id": "9d2e20b1",
   "metadata": {},
   "source": [
    "<div id=\"q1\">1)How many people of each race are represented in this dataset?</div>"
   ]
  },
  {
   "cell_type": "code",
   "execution_count": 19,
   "id": "b8c218eb",
   "metadata": {},
   "outputs": [],
   "source": [
    "race_count = df.groupby(['race']).race.count()"
   ]
  },
  {
   "cell_type": "code",
   "execution_count": 26,
   "id": "5e949b44",
   "metadata": {},
   "outputs": [
    {
     "data": {
      "image/png": "[encoded data removed]",
      "text/plain": [
       "<Figure size 432x288 with 1 Axes>"
      ]
     },
     "metadata": {},
     "output_type": "display_data"
    }
   ],
   "source": [
    "\n",
    "plt.pie(race_count, labels=race_count.to_dict().keys(),explode=[0,0,0,0,.2],shadow = True)\n",
    "plt.show() "
   ]
  },
  {
   "cell_type": "markdown",
   "id": "32e02b0c",
   "metadata": {},
   "source": [
    "<div id=\"q2\">2)What is the average age of men?</div>"
   ]
  },
  {
   "cell_type": "code",
   "execution_count": 32,
   "id": "62d391f0",
   "metadata": {},
   "outputs": [
    {
     "name": "stdout",
     "output_type": "stream",
     "text": [
      "Average age of men is 39.4 years\n"
     ]
    }
   ],
   "source": [
    "average_age_men = round((df[df['sex'] == 'Male'].age.mean()),1)\n",
    "print(\"Average age of men is {0} years\".format(average_age_men))"
   ]
  },
  {
   "cell_type": "markdown",
   "id": "11065e6e",
   "metadata": {},
   "source": [
    "<div id=\"q3\">3)What is the percentage of people who have a Bachelor's degree?</div>"
   ]
  },
  {
   "cell_type": "code",
   "execution_count": 34,
   "id": "20c2a9d6",
   "metadata": {},
   "outputs": [
    {
     "name": "stdout",
     "output_type": "stream",
     "text": [
      "People who have a Bachelor's degree is 16.4% from all sample\n"
     ]
    }
   ],
   "source": [
    "percentage_bachelors = round((df[df['education'] =='Bachelors'].education.count()/df['education'].count())*100,1)\n",
    "print(\"People who have a Bachelor's degree is {0}% from all sample\".format(percentage_bachelors))"
   ]
  },
  {
   "cell_type": "markdown",
   "id": "806d6649",
   "metadata": {},
   "source": [
    "<div id=\"q4\">4)What percentage of people with advanced education (Bachelors, Masters, or Doctorate) make more than 50K?</div>"
   ]
  },
  {
   "cell_type": "markdown",
   "id": "de8e8eef",
   "metadata": {},
   "source": [
    "<div id=\"q5\">5)What percentage of people without advanced education make more than 50K?</div>"
   ]
  },
  {
   "cell_type": "markdown",
   "id": "dc15e1e7",
   "metadata": {},
   "source": [
    "<div id=\"q6\">6)What is the minimum number of hours a person works per week?</div>"
   ]
  },
  {
   "cell_type": "markdown",
   "id": "d146d444",
   "metadata": {},
   "source": [
    "<div id=\"q7\">7)What percentage of the people who work the minimum number of hours per week have a salary of more than 50K?</div>"
   ]
  },
  {
   "cell_type": "markdown",
   "id": "b3353f3a",
   "metadata": {},
   "source": [
    "<div id=\"q8\">8)What country has the highest percentage of people that earn >50K and what is that percentage?</div>"
   ]
  },
  {
   "cell_type": "markdown",
   "id": "91c72d03",
   "metadata": {},
   "source": [
    "<div id=\"q9\">9)Identify the most popular occupation for those who earn >50K in India.</div>"
   ]
  },
  {
   "cell_type": "code",
   "execution_count": null,
   "id": "1bbcb702",
   "metadata": {},
   "outputs": [],
   "source": []
  }
 ],
 "metadata": {
  "kernelspec": {
   "display_name": "Python 3 (ipykernel)",
   "language": "python",
   "name": "python3"
  },
  "language_info": {
   "codemirror_mode": {
    "name": "ipython",
    "version": 3
   },
   "file_extension": ".py",
   "mimetype": "text/x-python",
   "name": "python",
   "nbconvert_exporter": "python",
   "pygments_lexer": "ipython3",
   "version": "3.9.7"
  }
 },
 "nbformat": 4,
 "nbformat_minor": 5
}
